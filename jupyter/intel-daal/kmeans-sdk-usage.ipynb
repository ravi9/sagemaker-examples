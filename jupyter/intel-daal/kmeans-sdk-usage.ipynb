{
 "cells": [
  {
   "cell_type": "markdown",
   "metadata": {},
   "source": [
    "# K-Means with Intel® Data Analytics Acceleration Library in Amazon SageMaker\n",
    "\n",
    "## Introduction\n",
    "\n",
    "Intel® Data Analytics Acceleration Library (Intel® DAAL) is the library of Intel® architecture optimized building blocks covering all stages of data analytics: data acquisition from a data source, preprocessing, transformation, data mining, modeling, validation, and decision making. One of its algorithms is K-Means.\n",
    "\n",
    "K-Means is among the most popular and simplest clustering methods. It is intended to partition a data set into a small number of clusters such that feature vectors within a cluster have greater similarity with one another than with feature vectors from other clusters. Each cluster is characterized by a representative point, called a centroid, and a cluster radius.\n",
    "\n",
    "In other words, the clustering methods enable reducing the problem of analysis of the entire data set to the analysis of clusters.\n",
    "\n",
    "There are numerous ways to define the measure of similarity and centroids. For K-Means, the centroid is defined as the mean of feature vectors within the cluster.\n",
    "\n",
    "Intel® DAAL developer guide: https://software.intel.com/en-us/daal-programming-guide\n",
    "\n",
    "Intel® DAAL documentation for K-Means: https://software.intel.com/en-us/daal-programming-guide-k-means-clustering "
   ]
  },
  {
   "cell_type": "markdown",
   "metadata": {},
   "source": [
    "## K-Means Usage with SageMaker Estimator\n",
    "Firstly, you need to import SageMaker package, get execution role and create session."
   ]
  },
  {
   "cell_type": "code",
   "execution_count": 1,
   "metadata": {},
   "outputs": [],
   "source": [
    "import sagemaker\n",
    "\n",
    "role = sagemaker.get_execution_role()\n",
    "sess = sagemaker.Session()"
   ]
  },
  {
   "cell_type": "markdown",
   "metadata": {},
   "source": [
    "Secondly, you can specify parameters of K-Means.\n",
    "#### Hyperparameters\n",
    "\"nClusters\" and \"maxIterations\" hyperparameters of K-Means algorithm are required, all other - optional.\n",
    "<table style=\"border: 1px solid black;\">\n",
    "    <tr>\n",
    "        <td><strong>Parameter name</strong></td>\n",
    "        <td><strong>Type</strong></td>\n",
    "        <td><strong>Default value</strong></td>\n",
    "        <td><strong>Description</strong></td>\n",
    "    </tr>\n",
    "    <tr>\n",
    "        <td>fptype</td>\n",
    "        <td>str</td>\n",
    "        <td>\"double\"</td>\n",
    "        <td>The floating-point type that the algorithm uses for intermediate computations. Can be \"float\" or \"double\"</td>\n",
    "    </tr>\n",
    "    <tr>\n",
    "        <td>nClusters</td>\n",
    "        <td>int</td>\n",
    "        <td>2</td>\n",
    "        <td>The number of clusters</td>\n",
    "    </tr>\n",
    "    <tr>\n",
    "        <td>initMethod</td>\n",
    "        <td>str</td>\n",
    "        <td>\"defaultDense\"</td>\n",
    "        <td>Available initialization methods for K-Means clustering: defaultDense - uses first nClusters points as initial clusters, randomDense - uses random nClusters points as initial clusters, plusPlusDense - uses K-Means++ algorithm; parallelPlusDense - uses parallel K-Means++ algorithm</td>\n",
    "    </tr>\n",
    "    <tr>\n",
    "        <td>oversamplingFactor</td>\n",
    "        <td>float</td>\n",
    "        <td>0.5</td>\n",
    "        <td>A fraction of nClusters in each of nRounds of parallel K-Means++. L=nClusters*oversamplingFactor points are sampled in a round</td>\n",
    "    </tr>\n",
    "    <tr>\n",
    "        <td>nRounds</td>\n",
    "        <td>int</td>\n",
    "        <td>5</td>\n",
    "        <td>The number of rounds for parallel K-Means++. (L*nRounds) must be greater than nClusters</td>\n",
    "    </tr>\n",
    "    <tr>\n",
    "        <td>seed</td>\n",
    "        <td>int</td>\n",
    "        <td>777</td>\n",
    "        <td>The seed for random number generator</td>\n",
    "    </tr>\n",
    "    <tr>\n",
    "        <td>method</td>\n",
    "        <td>str</td>\n",
    "        <td>\"lloydDense\"</td>\n",
    "        <td>Computation method for K-Means clustering</td>\n",
    "    </tr>\n",
    "    <tr>\n",
    "        <td>maxIterations</td>\n",
    "        <td>int</td>\n",
    "        <td>100</td>\n",
    "        <td>The number of iterations</td>\n",
    "    </tr>\n",
    "    <tr>\n",
    "        <td>accuracyThreshold</td>\n",
    "        <td>float</td>\n",
    "        <td>0</td>\n",
    "        <td>The threshold for termination of the algorithm</td>\n",
    "    </tr>\n",
    "    <tr>\n",
    "        <td>gamma</td>\n",
    "        <td>float</td>\n",
    "        <td>1</td>\n",
    "        <td>The weight to be used in distance calculation for binary categorical features</td>\n",
    "    </tr>\n",
    "    <tr>\n",
    "        <td>distanceType</td>\n",
    "        <td>str</td>\n",
    "        <td>\"euclidean\"</td>\n",
    "        <td>The measure of closeness between points (observations) being clustered. The only distance type supported so far is the Euclidian distance</td>\n",
    "    </tr>\n",
    "    <tr>\n",
    "        <td>assignFlag</td>\n",
    "        <td>bool</td>\n",
    "        <td>True</td>\n",
    "        <td>A flag that enables computation of assignments, that is, assigning cluster indices to respective observations</td>\n",
    "    </tr>\n",
    "</table>\n",
    "\n",
    "Example of hyperparameters dictionary:"
   ]
  },
  {
   "cell_type": "code",
   "execution_count": 3,
   "metadata": {},
   "outputs": [],
   "source": [
    "kmeans_params = {\n",
    "    \"fptype\": \"float\",\n",
    "    \"nClusters\": 5,\n",
    "    \"initMethod\": \"plusPlusDense\",\n",
    "    \"maxIterations\": 1000\n",
    "}"
   ]
  },
  {
   "cell_type": "markdown",
   "metadata": {},
   "source": [
    "Then, you need to create SageMaker Estimator instance with following parameters:\n",
    "<table style=\"border: 1px solid black;\">\n",
    "    <tr>\n",
    "        <td><strong>Parameter name</strong></td>\n",
    "        <td><strong>Description</strong></td>\n",
    "    </tr>\n",
    "    <tr>\n",
    "        <td>image_name</td>\n",
    "        <td>The container image to use for training</td>\n",
    "    </tr>\n",
    "    <tr>\n",
    "        <td>role</td>\n",
    "        <td>An AWS IAM role. The SageMaker training jobs and APIs that create SageMaker endpoints use this role to access training data and models</td>\n",
    "    </tr>\n",
    "    <tr>\n",
    "        <td>train_instance_count</td>\n",
    "        <td>Number of Amazon EC2 instances to use for training. Should be 1, because it is not distributed version of algorithm</td>\n",
    "    </tr>\n",
    "    <tr>\n",
    "        <td>train_instance_type</td>\n",
    "        <td>Type of EC2 instance to use for training. See available types on Amazon Marketplace page of algorithm</td>\n",
    "    </tr>\n",
    "    <tr>\n",
    "        <td>input_mode</td>\n",
    "        <td>The input mode that the algorithm supports. May be \"File\" or \"Pipe\"</td>\n",
    "    </tr>\n",
    "    <tr>\n",
    "        <td>output_path</td>\n",
    "        <td>S3 location for saving the trainig result (model artifacts and output files)</td>\n",
    "    </tr>\n",
    "    <tr>\n",
    "        <td>sagemaker_session</td>\n",
    "        <td>Session object which manages interactions with Amazon SageMaker APIs and any other AWS services needed</td>\n",
    "    </tr>\n",
    "    <tr>\n",
    "        <td>hyperparameters</td>\n",
    "        <td>Dictionary containing the hyperparameters to initialize this estimator with</td>\n",
    "    </tr>\n",
    "</table>\n",
    "Full SageMaker Estimator documentation: https://sagemaker.readthedocs.io/en/latest/estimators.html"
   ]
  },
  {
   "cell_type": "code",
   "execution_count": 4,
   "metadata": {},
   "outputs": [],
   "source": [
    "daal_kmeans_arn = \"<algorithm-arn>\" # you can find it on algorithm page in your subscriptions\n",
    "\n",
    "daal_kmeans = sagemaker.algorithm.AlgorithmEstimator(\n",
    "    algorithm_arn=daal_kmeans_arn,\n",
    "    role=role,\n",
    "    base_job_name=\"<base-job-name>\",\n",
    "    train_instance_count=1,\n",
    "    train_instance_type='ml.m4.xlarge',\n",
    "    input_mode=\"File\",\n",
    "    output_path=\"s3://<bucket-name>/<output-path>\",\n",
    "    sagemaker_session=sess,\n",
    "    hyperparameters=kmeans_params\n",
    ")"
   ]
  },
  {
   "cell_type": "markdown",
   "metadata": {},
   "source": [
    "### Training stage\n",
    "On training stage, K-Means algorithm consume input data from S3 location and computes centroids.\n",
    "This container supports only .csv (\"comma-separated values\") files."
   ]
  },
  {
   "cell_type": "code",
   "execution_count": 5,
   "metadata": {},
   "outputs": [
    {
     "name": "stderr",
     "output_type": "stream",
     "text": [
      "INFO:sagemaker:Creating training-job with name: daal-kmeans-test-2019-02-15-15-47-15-619\n"
     ]
    },
    {
     "name": "stdout",
     "output_type": "stream",
     "text": [
      "2019-02-15 15:47:15 Starting - Starting the training job...\n",
      "2019-02-15 15:47:17 Starting - Launching requested ML instances......\n",
      "2019-02-15 15:48:17 Starting - Preparing the instances for training...\n",
      "2019-02-15 15:49:09 Downloading - Downloading input data\n",
      "2019-02-15 15:49:09 Training - Downloading the training image......\n",
      "2019-02-15 15:50:14 Uploading - Uploading generated training model\n",
      "2019-02-15 15:50:14 Completed - Training job completed\n",
      "\n",
      "\u001b[31m2019-02-15 15:50:04 INFO     Training stage started\u001b[0m\n",
      "\u001b[31m2019-02-15 15:50:04 INFO     Final Hyperparameters:\u001b[0m\n",
      "\u001b[31m2019-02-15 15:50:04 INFO     {'fptype': 'float', 'initMethod': 'plusPlusDense', 'seed': '777', 'oversamplingFactor': '0.5', 'nRounds': '5', 'kmeansMethod': 'lloydDense', 'accuracyThreshold': '0', 'gamma': '1', 'distanceType': 'euclidean', 'assignFlag': True, 'maxIterations': '1000', 'method': 'lloydDense', 'assignFlag ': 'True', 'nClusters': '5'}\u001b[0m\n",
      "\u001b[31m2019-02-15 15:50:04 INFO     Train data shape: (30000, 10)\u001b[0m\n",
      "\u001b[31m2019-02-15 15:50:04 INFO     Files loading time: 0.10956525802612305\u001b[0m\n",
      "\u001b[31m2019-02-15 15:50:04 INFO     Starting DAAL k-Means algorithm...\u001b[0m\n",
      "\u001b[31m2019-02-15 15:50:04 INFO     Training time, sec: 0.34311580657958984\u001b[0m\n",
      "\u001b[31m2019-02-15 15:50:04 INFO     Parameters saved at /opt/ml/model/parameters.json\u001b[0m\n",
      "\u001b[31m2019-02-15 15:50:04 INFO     Centroids saved at /opt/ml/model/centroids.csv\u001b[0m\n",
      "\u001b[31m2019-02-15 15:50:05 INFO     Assignments saved at /opt/ml/model/assignments.csv\u001b[0m\n",
      "\u001b[31m2019-02-15 15:50:05 INFO     Number of computed iterations: 1000\u001b[0m\n",
      "\u001b[31m2019-02-15 15:50:05 INFO     Objective function value: 286906.5\u001b[0m\n",
      "\u001b[31m2019-02-15 15:50:05 INFO     Number of computed iterations and objective function value saved at /opt/ml/model/other.txt\u001b[0m\n",
      "Billable seconds: 75\n"
     ]
    }
   ],
   "source": [
    "daal_kmeans.fit({\"training\": \"s3://<bucket-name>/<training-data-path>\"})"
   ]
  },
  {
   "cell_type": "markdown",
   "metadata": {},
   "source": [
    "### Real-time prediction\n",
    "On prediction stage, K-Means algorithm determines assignments for input data using previously computed centroids.\n",
    "Firstly, you need to deploy SageMaker endpoint that consumes data."
   ]
  },
  {
   "cell_type": "code",
   "execution_count": 6,
   "metadata": {},
   "outputs": [
    {
     "name": "stderr",
     "output_type": "stream",
     "text": [
      "INFO:sagemaker:Creating model package with name: daal-kmeans-new-2019-02-15-15-56-26-951\n"
     ]
    },
    {
     "name": "stdout",
     "output_type": "stream",
     "text": [
      ".........."
     ]
    },
    {
     "name": "stderr",
     "output_type": "stream",
     "text": [
      "INFO:sagemaker:Creating model with name: daal-kmeans-new-2019-02-15-15-56-26-951-2019-02-15-15-57-12-443\n"
     ]
    },
    {
     "name": "stdout",
     "output_type": "stream",
     "text": [
      "\n"
     ]
    },
    {
     "name": "stderr",
     "output_type": "stream",
     "text": [
      "INFO:sagemaker:Creating endpoint with name daal-kmeans-test-2019-02-15-15-47-15-619\n"
     ]
    },
    {
     "name": "stdout",
     "output_type": "stream",
     "text": [
      "------------------------------------------------------------------!"
     ]
    }
   ],
   "source": [
    "predictor = daal_kmeans.deploy(1, \"ml.m4.xlarge\", serializer=sagemaker.predictor.csv_serializer)"
   ]
  },
  {
   "cell_type": "markdown",
   "metadata": {},
   "source": [
    "Secondly, you should pass data as numpy array to predictor instance and get assignments.\n",
    "\n",
    "In this example we are passing random data, but you can use any numpy 2D array."
   ]
  },
  {
   "cell_type": "code",
   "execution_count": 8,
   "metadata": {
    "scrolled": true
   },
   "outputs": [
    {
     "name": "stdout",
     "output_type": "stream",
     "text": [
      "1\n",
      "0\n",
      "2\n",
      "3\n",
      "3\n",
      "4\n",
      "1\n",
      "2\n",
      "3\n",
      "0\n"
     ]
    }
   ],
   "source": [
    "import numpy as np\n",
    "\n",
    "predict_data = np.random.random(size=(10,10))\n",
    "print(predictor.predict(predict_data).decode(\"utf-8\"))"
   ]
  },
  {
   "cell_type": "markdown",
   "metadata": {},
   "source": [
    "Don't forget to delete endpoint if you don't need it anymore."
   ]
  },
  {
   "cell_type": "code",
   "execution_count": 9,
   "metadata": {},
   "outputs": [
    {
     "name": "stderr",
     "output_type": "stream",
     "text": [
      "INFO:sagemaker:Deleting endpoint with name: daal-kmeans-test-2019-02-15-15-47-15-619\n"
     ]
    }
   ],
   "source": [
    "sess.delete_endpoint(predictor.endpoint)"
   ]
  },
  {
   "cell_type": "markdown",
   "metadata": {},
   "source": [
    "### Batch transform job\n",
    "If you don't need real-time prediction, you can use transform job. It uses saved model with centroids, compute assignments one time and saves it in specified or auto-generated output path.\n",
    "\n",
    "More about transform jobs: https://docs.aws.amazon.com/sagemaker/latest/dg/how-it-works-batch.html\n",
    "\n",
    "Transformer API: https://sagemaker.readthedocs.io/en/latest/transformer.html"
   ]
  },
  {
   "cell_type": "code",
   "execution_count": 10,
   "metadata": {},
   "outputs": [
    {
     "name": "stderr",
     "output_type": "stream",
     "text": [
      "INFO:sagemaker:Creating model package with name: daal-kmeans-new-2019-02-15-16-06-34-857\n"
     ]
    },
    {
     "name": "stdout",
     "output_type": "stream",
     "text": [
      ".........."
     ]
    },
    {
     "name": "stderr",
     "output_type": "stream",
     "text": [
      "INFO:sagemaker:Creating model with name: daal-kmeans-new-2019-02-15-16-06-34-857-2019-02-15-16-07-20-327\n"
     ]
    },
    {
     "name": "stdout",
     "output_type": "stream",
     "text": [
      "\n"
     ]
    },
    {
     "name": "stderr",
     "output_type": "stream",
     "text": [
      "INFO:sagemaker:Creating transform job with name: daal-kmeans-test-2019-02-15-16-07-20-877\n"
     ]
    },
    {
     "name": "stdout",
     "output_type": "stream",
     "text": [
      "........................................!\n",
      "s3://sagemaker-us-east-2-123123123123/daal-kmeans-test-2019-02-15-16-07-20-877\n"
     ]
    }
   ],
   "source": [
    "transformer = daal_kmeans.transformer(1, 'ml.m4.xlarge')\n",
    "transformer.transform(\"s3://<bucket-name>/<training-data-path>\", content_type='text/csv')\n",
    "transformer.wait()\n",
    "print(transformer.output_path)"
   ]
  },
  {
   "cell_type": "code",
   "execution_count": null,
   "metadata": {},
   "outputs": [],
   "source": []
  }
 ],
 "metadata": {
  "kernelspec": {
   "display_name": "Python 3",
   "language": "python",
   "name": "python3"
  },
  "language_info": {
   "codemirror_mode": {
    "name": "ipython",
    "version": 3
   },
   "file_extension": ".py",
   "mimetype": "text/x-python",
   "name": "python",
   "nbconvert_exporter": "python",
   "pygments_lexer": "ipython3",
   "version": "3.6.5"
  }
 },
 "nbformat": 4,
 "nbformat_minor": 2
}
