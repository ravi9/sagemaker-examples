{
 "cells": [
  {
   "cell_type": "markdown",
   "metadata": {},
   "source": [
    "# k-Nearest Neighbors (kNN) Classifier with Intel® Data Analytics Acceleration Library in Amazon SageMaker\n",
    "\n",
    "## Introduction\n",
    "\n",
    "Intel® Data Analytics Acceleration Library (Intel® DAAL) is the library of Intel® architecture optimized building blocks covering all stages of data analytics: data acquisition from a data source, preprocessing, transformation, data mining, modeling, validation, and decision making. One of its algorithms is kNN.\n",
    "\n",
    "k-Nearest Neighbors (kNN) classification is a non-parametric classification algorithm. The model of the kNN classifier is based on feature vectors and class labels from the training data set. This classifier induces the class of the query vector from the labels of the feature vectors in the training data set to which the query vector is similar. A similarity between feature vectors is determined by the type of distance (for example, Euclidian) in a multidimensional feature space.\n",
    "\n",
    "Intel® DAAL developer guide: https://software.intel.com/en-us/daal-programming-guide\n",
    "\n",
    "Intel® DAAL documentation for kNN: https://software.intel.com/en-us/daal-programming-guide-k-nearest-neighbors-knn-classifier"
   ]
  },
  {
   "cell_type": "markdown",
   "metadata": {},
   "source": [
    "## kNN Usage with SageMaker Estimator\n",
    "Firstly, you need to import SageMaker package, get execution role and create session."
   ]
  },
  {
   "cell_type": "code",
   "execution_count": 1,
   "metadata": {},
   "outputs": [],
   "source": [
    "import sagemaker\n",
    "\n",
    "role = sagemaker.get_execution_role()\n",
    "sess = sagemaker.Session()"
   ]
  },
  {
   "cell_type": "markdown",
   "metadata": {},
   "source": [
    "Secondly, you can specify parameters of kNN.\n",
    "#### Hyperparameters\n",
    "<table style=\"border: 1px solid black;\">\n",
    "    <tr>\n",
    "        <td><strong>Parameter name</strong></td>\n",
    "        <td><strong>Type</strong></td>\n",
    "        <td><strong>Default value</strong></td>\n",
    "        <td><strong>Description</strong></td>\n",
    "    </tr>\n",
    "    <tr>\n",
    "        <td>nClasses</td>\n",
    "        <td>int</td>\n",
    "        <td>2</td>\n",
    "        <td>Number of classes in data</td>\n",
    "    </tr>\n",
    "    <tr>\n",
    "        <td>fptype</td>\n",
    "        <td>str</td>\n",
    "        <td>\"double\"</td>\n",
    "        <td>The floating-point type that the algorithm uses for intermediate computations. Can be \"float\" or \"double\"</td>\n",
    "    </tr>\n",
    "    <tr>\n",
    "        <td>method</td>\n",
    "        <td>str</td>\n",
    "        <td>\"defaultDense\"</td>\n",
    "        <td>The computation method used by the K-D tree based kNN classification. The only training method supported so far is the default dense method.</td>\n",
    "    </tr>\n",
    "    <tr>\n",
    "        <td>k</td>\n",
    "        <td>int</td>\n",
    "        <td>1</td>\n",
    "        <td>The number of neighbors</td>\n",
    "    </tr>\n",
    "    <tr>\n",
    "        <td>dataUseInModel</td>\n",
    "        <td>str</td>\n",
    "        <td>\"doNotUse\"</td>\n",
    "        <td>A parameter to enable/disable use of the input data set in the kNN model. Possible values:<br/>\"doNotUse\" - the algorithm does not include the input data and labels in the trained kNN model but creates a copy of the input data set<br/>\"doUse\" - the algorithm includes the input data and labels in the trained kNN model</td>\n",
    "    </tr>\n",
    "    <tr>\n",
    "        <td>seed</td>\n",
    "        <td>int</td>\n",
    "        <td>777</td>\n",
    "        <td>Seed for random number generator engine that is used internally to perform sampling needed to choose dimensions and cut-points for the K-D tree.</td>\n",
    "    </tr>\n",
    "</table>\n",
    "\n",
    "Example of hyperparameters dictionary:"
   ]
  },
  {
   "cell_type": "code",
   "execution_count": 3,
   "metadata": {},
   "outputs": [],
   "source": [
    "knn_params = {\n",
    "    \"nClasses\":2,\n",
    "    \"fptype\":\"double\",\n",
    "    \"method\":\"defaultDense\",\n",
    "    \"dataUseInModel\":\"doNotUse\",\n",
    "    \"seed\": 777,\n",
    "    \"k\":1\n",
    "}"
   ]
  },
  {
   "cell_type": "markdown",
   "metadata": {},
   "source": [
    "Then, you need to create SageMaker Estimator instance with following parameters:\n",
    "<table style=\"border: 1px solid black;\">\n",
    "    <tr>\n",
    "        <td><strong>Parameter name</strong></td>\n",
    "        <td><strong>Description</strong></td>\n",
    "    </tr>\n",
    "    <tr>\n",
    "        <td>image_name</td>\n",
    "        <td>The container image to use for training</td>\n",
    "    </tr>\n",
    "    <tr>\n",
    "        <td>role</td>\n",
    "        <td>An AWS IAM role. The SageMaker training jobs and APIs that create SageMaker endpoints use this role to access training data and models</td>\n",
    "    </tr>\n",
    "    <tr>\n",
    "        <td>train_instance_count</td>\n",
    "        <td>Number of Amazon EC2 instances to use for training. Should be 1, because it is not distributed version of algorithm</td>\n",
    "    </tr>\n",
    "    <tr>\n",
    "        <td>train_instance_type</td>\n",
    "        <td>Type of EC2 instance to use for training. See available types on Amazon Marketplace page of algorithm</td>\n",
    "    </tr>\n",
    "    <tr>\n",
    "        <td>input_mode</td>\n",
    "        <td>The input mode that the algorithm supports. May be \"File\" or \"Pipe\"</td>\n",
    "    </tr>\n",
    "    <tr>\n",
    "        <td>output_path</td>\n",
    "        <td>S3 location for saving the trainig result (model artifacts and output files)</td>\n",
    "    </tr>\n",
    "    <tr>\n",
    "        <td>sagemaker_session</td>\n",
    "        <td>Session object which manages interactions with Amazon SageMaker APIs and any other AWS services needed</td>\n",
    "    </tr>\n",
    "    <tr>\n",
    "        <td>hyperparameters</td>\n",
    "        <td>Dictionary containing the hyperparameters to initialize this estimator with</td>\n",
    "    </tr>\n",
    "</table>\n",
    "Full SageMaker Estimator documentation: https://sagemaker.readthedocs.io/en/latest/estimators.html"
   ]
  },
  {
   "cell_type": "code",
   "execution_count": 6,
   "metadata": {},
   "outputs": [],
   "source": [
    "daal_knn_arn = \"<algorithm-arn>\" # you can find it on algorithm page in your subscriptions\n",
    "\n",
    "daal_knn = sagemaker.algorithm.AlgorithmEstimator(\n",
    "    algorithm_arn=daal_knn_arn,\n",
    "    role=role,\n",
    "    base_job_name=\"<base-job-name>\",\n",
    "    train_instance_count=1,\n",
    "    train_instance_type='ml.m4.xlarge',\n",
    "    input_mode=\"File\",\n",
    "    output_path=\"s3://<bucket-name>/<output-path>\",\n",
    "    sagemaker_session=sess,\n",
    "    hyperparameters=knn_params\n",
    ")"
   ]
  },
  {
   "cell_type": "markdown",
   "metadata": {},
   "source": [
    "### Training stage\n",
    "On training stage, kNN algorithm consume input data from S3 location.\n",
    "This container supports only .csv (\"comma-separated values\") files."
   ]
  },
  {
   "cell_type": "code",
   "execution_count": 7,
   "metadata": {
    "scrolled": false
   },
   "outputs": [
    {
     "name": "stderr",
     "output_type": "stream",
     "text": [
      "INFO:sagemaker:Creating training-job with name: daal-knn-sm-2019-02-24-15-31-09-721\n"
     ]
    },
    {
     "name": "stdout",
     "output_type": "stream",
     "text": [
      "2019-02-24 15:31:09 Starting - Starting the training job...\n",
      "2019-02-24 15:31:11 Starting - Launching requested ML instances......\n",
      "2019-02-24 15:32:12 Starting - Preparing the instances for training...\n",
      "2019-02-24 15:33:02 Downloading - Downloading input data\n",
      "2019-02-24 15:33:02 Training - Downloading the training image......\n",
      "2019-02-24 15:34:09 Uploading - Uploading generated training model\n",
      "\u001b[31m2019-02-24 15:34:04 INFO     Container setup completed, In Docker entrypoint - train... \u001b[0m\n",
      "\u001b[31m2019-02-24 15:34:04 INFO     Default Hyperparameters loaded: \u001b[0m\n",
      "\u001b[31m2019-02-24 15:34:04 INFO     \u001b[0m\n",
      "\u001b[31m{'dataUseInModel': 'doNotUse',\n",
      " 'fptype': 'double',\n",
      " 'k': '1',\n",
      " 'method': 'defaultDense',\n",
      " 'nClasses': '2'}\u001b[0m\n",
      "\u001b[31m2019-02-24 15:34:04 INFO     Updated with user hyperparameters, Final Hyperparameters: \u001b[0m\n",
      "\u001b[31m2019-02-24 15:34:04 INFO     \u001b[0m\n",
      "\u001b[31m{'dataUseInModel': 'doNotUse',\n",
      " 'fptype': 'double',\n",
      " 'k': '1',\n",
      " 'method': 'defaultDense',\n",
      " 'nClasses': '2',\n",
      " 'seed': '777'}\u001b[0m\n",
      "\u001b[31m2019-02-24 15:34:04 INFO     Reading training data... \u001b[0m\n",
      "\u001b[31m2019-02-24 15:34:04 INFO     Train data shape: (20000, 6)\u001b[0m\n",
      "\u001b[31m2019-02-24 15:34:04 INFO     Files loading time: 0.024965763092041016\u001b[0m\n",
      "\u001b[31m2019-02-24 15:34:04 INFO     Training Data Shape: (20000, 5)\u001b[0m\n",
      "\u001b[31m2019-02-24 15:34:04 INFO     Starting DAAL KNN Kdtree training...\u001b[0m\n",
      "\u001b[31m2019-02-24 15:34:04 INFO     Training time in sec = 0.024128198623657227\u001b[0m\n",
      "\u001b[31m2019-02-24 15:34:04 INFO     Training complete.\u001b[0m\n",
      "\u001b[31m2019-02-24 15:34:04 INFO     Saving model results...\u001b[0m\n",
      "\u001b[31m2019-02-24 15:34:04 INFO     Parameters saved at /opt/ml/model/parameters.json\u001b[0m\n",
      "\n",
      "2019-02-24 15:34:15 Completed - Training job completed\n",
      "Billable seconds: 80\n"
     ]
    }
   ],
   "source": [
    "daal_knn.fit({\"training\": \"s3://<bucket-name>/<training-data-path>\"})"
   ]
  },
  {
   "cell_type": "markdown",
   "metadata": {},
   "source": [
    "### Real-time prediction\n",
    "Firstly, you need to deploy SageMaker endpoint that consumes data."
   ]
  },
  {
   "cell_type": "code",
   "execution_count": 8,
   "metadata": {
    "scrolled": true
   },
   "outputs": [
    {
     "name": "stderr",
     "output_type": "stream",
     "text": [
      "INFO:sagemaker:Creating model package with name: daal-knn-2019-02-24-15-35-14-387\n"
     ]
    },
    {
     "name": "stdout",
     "output_type": "stream",
     "text": [
      ".........."
     ]
    },
    {
     "name": "stderr",
     "output_type": "stream",
     "text": [
      "INFO:sagemaker:Creating model with name: daal-knn-2019-02-24-15-35-14-387-2019-02-24-15-35-59-854\n"
     ]
    },
    {
     "name": "stdout",
     "output_type": "stream",
     "text": [
      "\n"
     ]
    },
    {
     "name": "stderr",
     "output_type": "stream",
     "text": [
      "INFO:sagemaker:Creating endpoint with name daal-knn-sm-2019-02-24-15-31-09-721\n"
     ]
    },
    {
     "name": "stdout",
     "output_type": "stream",
     "text": [
      "--------------------------------------------------------------------------!"
     ]
    }
   ],
   "source": [
    "predictor = daal_knn.deploy(1, \"ml.m4.xlarge\", serializer=sagemaker.predictor.csv_serializer)"
   ]
  },
  {
   "cell_type": "markdown",
   "metadata": {},
   "source": [
    "Secondly, you should pass data as numpy array to endpoint and get predictions.\n",
    "\n",
    "In this example we are passing random data, but you can use any numpy 2D array"
   ]
  },
  {
   "cell_type": "code",
   "execution_count": 11,
   "metadata": {},
   "outputs": [
    {
     "name": "stdout",
     "output_type": "stream",
     "text": [
      "1\n",
      "1\n",
      "2\n",
      "4\n",
      "4\n",
      "3\n",
      "3\n",
      "1\n",
      "2\n",
      "4\n",
      "\n"
     ]
    }
   ],
   "source": [
    "import numpy as np\n",
    "\n",
    "predict_data = np.random.random(size=(10,5))\n",
    "print(predictor.predict(predict_data).decode(\"utf-8\"))"
   ]
  },
  {
   "cell_type": "markdown",
   "metadata": {},
   "source": [
    "Don't forget to delete endpoint if you don't need it anymore."
   ]
  },
  {
   "cell_type": "code",
   "execution_count": 12,
   "metadata": {},
   "outputs": [
    {
     "name": "stderr",
     "output_type": "stream",
     "text": [
      "INFO:sagemaker:Deleting endpoint with name: daal-knn-sm-2019-02-24-15-31-09-721\n"
     ]
    }
   ],
   "source": [
    "sess.delete_endpoint(predictor.endpoint)"
   ]
  },
  {
   "cell_type": "markdown",
   "metadata": {},
   "source": [
    "### Batch transform job\n",
    "If you don't need real-time prediction, you can use transform job. It uses saved model, compute predictions one time and saves it in specified or auto-generated output path.\n",
    "\n",
    "More about transform jobs: https://docs.aws.amazon.com/sagemaker/latest/dg/how-it-works-batch.html\n",
    "\n",
    "Transformer API: https://sagemaker.readthedocs.io/en/latest/transformer.html"
   ]
  },
  {
   "cell_type": "code",
   "execution_count": 14,
   "metadata": {},
   "outputs": [
    {
     "name": "stderr",
     "output_type": "stream",
     "text": [
      "INFO:sagemaker:Creating model package with name: daal-knn-2019-02-24-15-53-00-053\n"
     ]
    },
    {
     "name": "stdout",
     "output_type": "stream",
     "text": [
      ".........."
     ]
    },
    {
     "name": "stderr",
     "output_type": "stream",
     "text": [
      "INFO:sagemaker:Creating model with name: daal-knn-2019-02-24-15-53-00-053-2019-02-24-15-53-45-504\n"
     ]
    },
    {
     "name": "stdout",
     "output_type": "stream",
     "text": [
      "\n"
     ]
    },
    {
     "name": "stderr",
     "output_type": "stream",
     "text": [
      "INFO:sagemaker:Creating transform job with name: daal-knn-sm-2019-02-24-15-53-45-783\n"
     ]
    },
    {
     "name": "stdout",
     "output_type": "stream",
     "text": [
      "........................................!\n",
      "s3://sagemaker-us-east-2-123123123123/daal-knn-sm-2019-02-24-15-53-45-783\n"
     ]
    }
   ],
   "source": [
    "transformer = daal_knn.transformer(1, 'ml.m4.xlarge')\n",
    "transformer.transform(\"s3://<bucket-name>/<prediction-data-path>\", content_type='text/csv')\n",
    "transformer.wait()\n",
    "print(transformer.output_path)"
   ]
  }
 ],
 "metadata": {
  "kernelspec": {
   "display_name": "conda_python3",
   "language": "python",
   "name": "conda_python3"
  },
  "language_info": {
   "codemirror_mode": {
    "name": "ipython",
    "version": 3
   },
   "file_extension": ".py",
   "mimetype": "text/x-python",
   "name": "python",
   "nbconvert_exporter": "python",
   "pygments_lexer": "ipython3",
   "version": "3.6.5"
  }
 },
 "nbformat": 4,
 "nbformat_minor": 2
}
